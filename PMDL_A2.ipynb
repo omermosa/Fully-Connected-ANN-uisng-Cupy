{
  "nbformat": 4,
  "nbformat_minor": 0,
  "metadata": {
    "colab": {
      "name": "PMDL A2.ipynb",
      "provenance": [],
      "collapsed_sections": [],
      "mount_file_id": "14HLMuVIPvHZnCHYynCBbzD7l3ISsFzx1",
      "authorship_tag": "ABX9TyPrwk987h//rq+dIor92+o4",
      "include_colab_link": true
    },
    "kernelspec": {
      "name": "python3",
      "display_name": "Python 3"
    },
    "accelerator": "GPU"
  },
  "cells": [
    {
      "cell_type": "markdown",
      "metadata": {
        "id": "view-in-github",
        "colab_type": "text"
      },
      "source": [
        "<a href=\"https://colab.research.google.com/github/omermosa/Fully-Connected-ANN-uisng-Cupy/blob/main/PMDL_A2.ipynb\" target=\"_parent\"><img src=\"https://colab.research.google.com/assets/colab-badge.svg\" alt=\"Open In Colab\"/></a>"
      ]
    },
    {
      "cell_type": "code",
      "metadata": {
        "id": "Ycq8WGkrgiYo",
        "outputId": "c732b6b1-c11d-4808-8893-cf45fc0a2846",
        "colab": {
          "base_uri": "https://localhost:8080/"
        }
      },
      "source": [
        "%cd /content/drive/My Drive/PMDL/A2\n"
      ],
      "execution_count": null,
      "outputs": [
        {
          "output_type": "stream",
          "text": [
            "/content/drive/My Drive/PMDL/A2\n"
          ],
          "name": "stdout"
        }
      ]
    },
    {
      "cell_type": "code",
      "metadata": {
        "id": "MVTWDNwAbeeo",
        "outputId": "9eeb572d-188e-408d-eb87-059f85423afd",
        "colab": {
          "base_uri": "https://localhost:8080/"
        }
      },
      "source": [
        "!wget http://download.tensorflow.org/example_images/flower_photos.tgz"
      ],
      "execution_count": null,
      "outputs": [
        {
          "output_type": "stream",
          "text": [
            "/content/drive/My Drive/PMDL/A2\n",
            "--2020-11-03 04:47:46--  http://download.tensorflow.org/example_images/flower_photos.tgz\n",
            "Resolving download.tensorflow.org (download.tensorflow.org)... 172.217.218.128, 2a00:1450:4013:c08::80\n",
            "Connecting to download.tensorflow.org (download.tensorflow.org)|172.217.218.128|:80... connected.\n",
            "HTTP request sent, awaiting response... 200 OK\n",
            "Length: 228813984 (218M) [application/x-compressed-tar]\n",
            "Saving to: ‘flower_photos.tgz’\n",
            "\n",
            "flower_photos.tgz   100%[===================>] 218.21M  35.0MB/s    in 6.0s    \n",
            "\n",
            "2020-11-03 04:47:53 (36.3 MB/s) - ‘flower_photos.tgz’ saved [228813984/228813984]\n",
            "\n"
          ],
          "name": "stdout"
        }
      ]
    },
    {
      "cell_type": "code",
      "metadata": {
        "id": "_CtYTvEPbeiu"
      },
      "source": [
        "! tar -xvzf /content/drive/My\\ Drive/PMDL/A1/Part1/flower_photos.tgz"
      ],
      "execution_count": null,
      "outputs": []
    },
    {
      "cell_type": "code",
      "metadata": {
        "id": "2oHRQgzbD4pb"
      },
      "source": [
        ""
      ],
      "execution_count": null,
      "outputs": []
    },
    {
      "cell_type": "markdown",
      "metadata": {
        "id": "s-8jEYGSD5hH"
      },
      "source": [
        "# Data Load and Preprocessing"
      ]
    },
    {
      "cell_type": "code",
      "metadata": {
        "id": "ZYgT77KUbec2"
      },
      "source": [
        "import os\n",
        "import cv2 \n",
        "import numpy as np\n",
        "from skimage.transform import resize #to resize img"
      ],
      "execution_count": null,
      "outputs": []
    },
    {
      "cell_type": "code",
      "metadata": {
        "id": "FyNtUz1Gbv71"
      },
      "source": [
        "def load_data():\n",
        "  pd=\"/content/drive/My Drive/PMDL/A2/flower_photos\"\n",
        "  dirs=sorted(os.listdir(pd))\n",
        "  flowers_train=[]\n",
        "  classes_train=[]\n",
        "  flowers_test=[]\n",
        "  classes_test=[]\n",
        "  c=1\n",
        "  for f in dirs:\n",
        "    dir=os.path.join(pd,f)\n",
        "    if os.path.isdir(dir):\n",
        "      fs=sorted(os.listdir(dir))\n",
        "      cls=[]\n",
        "      cl=len(fs)\n",
        "      for j,k in enumerate(fs):\n",
        "        #read img, then resize to 32 by 32 (I tried multiple sizes and this yeilded best accuracy)\n",
        "        img=(cv2.imread(os.path.join(dir,k)))\n",
        "        img = resize(img, (128, 128,3))\n",
        "        if cl-(j+1)>=100: \n",
        "          flowers_train.append(np.array(img)) \n",
        "          classes_train.append(c)\n",
        "        else:#keep last 100 of each class for test\n",
        "          flowers_test.append(np.array(img)) \n",
        "          classes_test.append(c)\n",
        "      c+=1\n",
        "  flowers_train=np.array(flowers_train)\n",
        "  classes_train=np.array(classes_train)\n",
        "  flowers_test=np.array(flowers_test)\n",
        "  classes_test=np.array(classes_test)\n",
        "  #flatten the train and test data then return\n",
        "  return (flowers_train.reshape(flowers_train.shape[0],-1),classes_train,flowers_test.reshape(flowers_test.shape[0],-1),classes_test)\n",
        "    "
      ],
      "execution_count": null,
      "outputs": []
    },
    {
      "cell_type": "code",
      "metadata": {
        "id": "bcv_m_Gobv4q"
      },
      "source": [
        "X_train,y_train,X_test,y_test=load_data()"
      ],
      "execution_count": null,
      "outputs": []
    },
    {
      "cell_type": "code",
      "metadata": {
        "id": "hgqpD7oEbebC"
      },
      "source": [
        "#shuffle the arrays\n",
        "from sklearn.utils import shuffle\n",
        "X_train,y_train=shuffle(X_train,y_train)\n",
        "X_test,y_test=shuffle(X_test,y_test)"
      ],
      "execution_count": null,
      "outputs": []
    },
    {
      "cell_type": "code",
      "metadata": {
        "id": "8_0XDibSbeXb"
      },
      "source": [
        "#save arrays\n",
        "np.save(\"X_train_128.npy\",X_train)\n",
        "np.save(\"y_train_128.npy\",y_train)\n",
        "np.save(\"X_test_128.npy\",X_test)\n",
        "np.save(\"y_test_128.npy\",y_test)\n"
      ],
      "execution_count": null,
      "outputs": []
    },
    {
      "cell_type": "code",
      "metadata": {
        "id": "y7ZQGcCWpIje"
      },
      "source": [
        "import numpy as np\n",
        "np.random.seed(0) \n"
      ],
      "execution_count": null,
      "outputs": []
    },
    {
      "cell_type": "code",
      "metadata": {
        "id": "p3syCfQCqa0Q"
      },
      "source": [
        "import cupy as cp\n",
        "cp.random.seed(0) \n"
      ],
      "execution_count": null,
      "outputs": []
    },
    {
      "cell_type": "code",
      "metadata": {
        "id": "gGR75Qmvkr0a"
      },
      "source": [
        "from sklearn.model_selection import train_test_split"
      ],
      "execution_count": null,
      "outputs": []
    },
    {
      "cell_type": "code",
      "metadata": {
        "id": "MizadA_YboCz"
      },
      "source": [
        "import pickle"
      ],
      "execution_count": null,
      "outputs": []
    },
    {
      "cell_type": "code",
      "metadata": {
        "id": "CxhbOjfB2Zxw"
      },
      "source": [
        "#128 by 128 dataset\n",
        "Xt=np.load('/content/drive/My Drive/PMDL/A2/X_train_128.npy')\n",
        "Yt=np.load('/content/drive/My Drive/PMDL/A2/y_train_128.npy')\n",
        "X_test=np.load('/content/drive/My Drive/PMDL/A2/X_test_128.npy')\n",
        "y_test=np.load('/content/drive/My Drive/PMDL/A2/y_test_128.npy')"
      ],
      "execution_count": null,
      "outputs": []
    },
    {
      "cell_type": "code",
      "metadata": {
        "id": "oPJ8OCE5pwdV"
      },
      "source": [
        "# 64 * 64 dataset\n",
        "Xt=np.load('/content/drive/My Drive/PMDL/A2/X_train_64.npy')\n",
        "Yt=np.load('/content/drive/My Drive/PMDL/A2/y_train_64.npy')\n",
        "X_test=np.load('/content/drive/My Drive/PMDL/A2/X_test_64.npy')\n",
        "y_test=np.load('/content/drive/My Drive/PMDL/A2/y_test_64.npy')"
      ],
      "execution_count": null,
      "outputs": []
    },
    {
      "cell_type": "code",
      "metadata": {
        "id": "2e030f20ZaQX"
      },
      "source": [
        "#32 32 dataset\n",
        "Xt=np.load('/content/drive/My Drive/PMDL/A1/Part1/X_train.npy')\n",
        "Yt=np.load('/content/drive/My Drive/PMDL/A1/Part1/y_train.npy')\n",
        "X_test=np.load('/content/drive/My Drive/PMDL/A1/Part1/X_test.npy')\n",
        "y_test=np.load('/content/drive/My Drive/PMDL/A1/Part1/y_test.npy')"
      ],
      "execution_count": null,
      "outputs": []
    },
    {
      "cell_type": "code",
      "metadata": {
        "id": "SVwXxt4zp_1-"
      },
      "source": [
        "Xt=cp.array(Xt)\n",
        "Yt=cp.array(Yt)\n",
        "X_test=cp.array(X_test)\n",
        "y_test=cp.array(y_test)"
      ],
      "execution_count": null,
      "outputs": []
    },
    {
      "cell_type": "code",
      "metadata": {
        "id": "BCNNRb8wKpuI"
      },
      "source": [
        ""
      ],
      "execution_count": null,
      "outputs": []
    },
    {
      "cell_type": "markdown",
      "metadata": {
        "id": "4ZrVckLXD_dh"
      },
      "source": [
        "# ANN Class Implementation."
      ]
    },
    {
      "cell_type": "code",
      "metadata": {
        "id": "0IW-qD_seKaq"
      },
      "source": [
        "class ANN(object): # fully connected NN Class\n",
        "\n",
        "  def __init__(self,n_layers,n_nodes): # construct given layer architecture\n",
        "    self.n_layers=n_layers\n",
        "    self.n_nodes=n_nodes\n",
        "    self.Ws=self.init_weights()\n",
        "\n",
        "  def init_weights(self):\n",
        "    Ws={}\n",
        "    for i in range(self.n_layers):\n",
        "      #use Xaveir intialization\n",
        "      Ws['WL_'+str(i+1)]=cp.array(np.random.randn(self.n_nodes[i],self.n_nodes[i+1])/np.sqrt(self.n_nodes[i+1]))\n",
        "      Ws['bL_'+str(i+1)]=cp.array(np.zeros((self.n_nodes[i+1],1)))\n",
        "    self.Ws=Ws\n",
        "    return Ws\n",
        "\n",
        "  def activation(self,L,type='relu'): # activation functions.\n",
        "    if type=='relu':\n",
        "      return cp.maximum(0,L)\n",
        "    elif type=='tanh':\n",
        "      return cp.tanh(L)\n",
        "    elif type=='sigmoid':\n",
        "      return 1/(1+cp.exp(-L))\n",
        "    elif type=='softmax':\n",
        "      m=cp.max(L,axis=-1).reshape(-1,1)\n",
        "      L=L-m\n",
        "      return cp.exp(L)/cp.sum(cp.exp(L),axis=1,keepdims=True)\n",
        "\n",
        "  def one_step_forward(self,activ_prev,layer_num,Ws,activ_fn='relu'): # one layer forward probgation (Wx+b ) then activation\n",
        "    W,b=Ws['WL_'+str(layer_num)],Ws['bL_'+str(layer_num)]\n",
        "    L=cp.dot(W.T,activ_prev.T)+b\n",
        "    L=L.T\n",
        "    activ_current=self.activation(L,activ_fn)\n",
        "    return activ_current,L\n",
        "\n",
        "  def forward_pass(self,X,Ws): # run forward probagation \n",
        "    activations=[X,]\n",
        "    Ls=[X,]\n",
        "    a_prev=X\n",
        "    n_layers=self.n_layers\n",
        "    for i in range(n_layers):\n",
        "      if i+1<n_layers:\n",
        "        a_prev,L=self.one_step_forward(a_prev,i+1,Ws) # default is relu , can be changed\n",
        "        activations.append(a_prev)\n",
        "        Ls.append(L)\n",
        "      else:\n",
        "        a_prev,L=self.one_step_forward(a_prev,i+1,Ws,'softmax') # softmax the last layer.\n",
        "        activations.append(a_prev)\n",
        "        Ls.append(L)\n",
        "\n",
        "    yhat=activations[-1]\n",
        "\n",
        "    return Ls,activations,yhat\n",
        "\n",
        "  def loss(self,y_pred,y_true,ld,m,loss_fn='NLL'):\n",
        "    id=np.eye(y_pred.shape[1])[cp.asnumpy(y_true).astype(np.int32)-1].astype(np.bool)\n",
        "    reg_loss=0 #L2 Reg\n",
        "\n",
        "    if ld>0: # if there is regulrization \n",
        "      for i in range(1,self.n_layers+1): # ld*sum(WL**2) /2*m\n",
        "        reg_loss+=cp.sum(self.Ws['WL_'+str(i)]**2) \n",
        "      reg_loss/=(2*m)\n",
        "      reg_loss*=ld\n",
        "\n",
        "    if loss_fn=='NLL': # take - log of the correct class probability\n",
        "      sms=cp.sum(y_pred,axis=1).reshape(-1,1)\n",
        "      sm=y_pred[id].reshape(-1,1)/sms\n",
        "      ls=1/m*cp.sum(-cp.log(sm)) # the y is already a softmax form, take - log\n",
        "    \n",
        "    # elif loss_fn=='hinge':\n",
        "    #   delta=0.1\n",
        "    #   margins=cp.maximum(0,y_pred-y_pred[id].reshape(-1,1)+delta)\n",
        "    #   margins[id]=0\n",
        "    #   ls=1/m*cp.sum(margins)\n",
        "    return ls,ls+reg_loss\n",
        "\n",
        "  def relu_der(self,L): #relu derivative\n",
        "    grad=cp.ones((L.shape))\n",
        "    grad[L<0]=0\n",
        "    return grad\n",
        "\n",
        "  def tanh_der(self,L): #tanh derivative\n",
        "    return 1-cp.tanh(L)**2\n",
        "\n",
        "  def output_grad(self,yp,yt,loss_fn='NLL'): # NLL derivative\n",
        "\n",
        "    if loss_fn=='NLL':\n",
        "      grad=(yp-yt)/cp.sum((yp),axis=1).reshape(-1,1)\n",
        "    #hinge??\n",
        "    return grad    \n",
        "\n",
        "\n",
        "  def backward_pass(self,Ws,As,Ls,yp,yt):\n",
        "\n",
        "    grads={}\n",
        "    dActivs={} #grad of activations\n",
        "    n_layers=self.n_layers\n",
        "    m=yp.shape[0] #num examples\n",
        "    WL=Ws['WL_'+str(n_layers)]\n",
        "    # output layers grads\n",
        "    dL=self.output_grad(yp,yt)\n",
        "    Aprev=As[n_layers-1]\n",
        "\n",
        "    dW=1/m*(cp.dot(Aprev.T,dL))\n",
        "\n",
        "    db=1/m*(cp.sum(dL.T,axis=1,keepdims=True))\n",
        "\n",
        "    grads['dWL_'+str(n_layers)]=dW\n",
        "    grads['dbL_'+str(n_layers)]=db\n",
        "    dActivs['Layer_'+str(n_layers-1)]=cp.dot(dL,WL.T)\n",
        "    #rest of layers grad\n",
        "    for i in reversed(range(n_layers-1)):\n",
        "        Aprev=As[i]\n",
        "        L=Ls[i+1]\n",
        "        WL=Ws['WL_'+str(i+1)]\n",
        "        \n",
        "        dL=dActivs['Layer_'+str(i+1)]*(self.relu_der(L)) # \n",
        "        dW=1/m*(cp.dot(Aprev.T,dL))\n",
        "        db = 1/m*(cp.sum(dL.T,axis=1,keepdims=True))\n",
        "        \n",
        "        grads['dWL_'+str(i+1)]=dW\n",
        "        grads['dbL_'+str(i+1)]=db\n",
        "        dActivs['Layer_'+str(i)]=cp.dot(dL,WL.T)\n",
        "    return grads\n",
        "\n",
        "\n",
        "  def update_Ws(self,grads,Ws,lr,ld,m): #GD update\n",
        "    n_layers=self.n_layers\n",
        "    for i in range(1,n_layers+1):\n",
        "        Ws['bL_'+str(i)]-=lr*(grads['dbL_'+str(i)])\n",
        "        Ws['WL_'+str(i)]-=lr*(grads['dWL_'+str(i)]+ld*  Ws['WL_'+str(i)]/m)\n",
        "    return Ws\n",
        "\n",
        "  def train_val_split(self,Xt,Yt,ratio): #split train and validation\n",
        "    X_train,X_val,y_train,y_val=train_test_split(Xt,Yt,test_size=ratio)\n",
        "    return ( X_train,X_val,y_train,y_val)\n",
        "\n",
        "\n",
        "  def Train(self,Xt,Yt,n_epochs,lr,ld,train_val_ratio=0.1,batch_size=-1,verbose=True): # train the ANN on X,Y\n",
        "    n_classes=len(cp.unique(Yt))\n",
        "    lss_tr,ls_val=[],[]\n",
        "    ac_tr,ac_val=[],[]\n",
        "\n",
        "    X_train,X_val,y_train,y_val=self.train_val_split(Xt,Yt,train_val_ratio) # split train, val\n",
        "    \n",
        "    yt=cp.eye(n_classes)[cp.asnumpy(y_train).astype(cp.int32)-1]\n",
        "    yv=cp.eye(n_classes)[cp.asnumpy(y_val).astype(cp.int32)-1]\n",
        "\n",
        "    Ws=self.Ws\n",
        "    m=Yt.shape[0] #num examples\n",
        "    self.lr=lr\n",
        "    self.ld=ld\n",
        "    ts=y_train.shape[0]\n",
        "\n",
        "    p=self.Predict(X_val)\n",
        "    prev_val_acc=self.compute_acc(p,y_val)\n",
        "    for i in range(n_epochs+1):\n",
        "      \n",
        "      if batch_size!=-1: # check if there is minibatches\n",
        "        n_batches=ts//batch_size\n",
        "        for j in range(n_batches-1): # run minibatch GD\n",
        "\n",
        "            Ls,As,y_pred=self.forward_pass(X_train[j*batch_size:(j+1)*batch_size],Ws)\n",
        "            gr=self.backward_pass(Ws,As,Ls,y_pred,yt[j*batch_size:(j+1)*batch_size])\n",
        "            Ws=self.update_Ws(gr,Ws,lr,ld,m)\n",
        "\n",
        "      else: #feed all data\n",
        "        Ls,As,y_pred=self.forward_pass(X_train,Ws)\n",
        "        gr=self.backward_pass(Ws,As,Ls,y_pred,yt)\n",
        "        Ws=self.update_Ws(gr,Ws,lr,ld,m)\n",
        "      yp=self.Predict(X_train)\n",
        "      yvp=self.Predict(X_val)\n",
        "\n",
        "     \n",
        "   \n",
        "     \n",
        "      #losses and accs for validation and test\n",
        "      lst,_=self.loss(yp,y_train,ld,ts)\n",
        "      lsv,_=self.loss(yvp,y_val,ld,y_val.shape[0])\n",
        "      act=self.compute_acc(yp,y_train)\n",
        "      acv=self.compute_acc(yvp,y_val)\n",
        "      lss_tr.append(lst)\n",
        "      ls_val.append(lsv)\n",
        "      ac_tr.append(act)\n",
        "      ac_val.append(acv)\n",
        "\n",
        "      if prev_val_acc<acv: # update Ws only if val accuracy increased.\n",
        "        self.Ws=Ws\n",
        "\n",
        "\n",
        "      if verbose and i%50==0 : #print epoch info\n",
        "          print(\"Epoch %d Train Loss is %f and Train Accuracy is %10f.. Val Loss is %f & Val Accuracy is %f..\"%(i,lst,act,lsv,acv))\n",
        "    return {'train_loss':lss_tr,'train_acc':ac_tr,'val_loss':ls_val,'val_acc':ac_val} #model History loss & accuracy\n",
        "\n",
        "  def compute_acc(self,yp,yt): # get prediction accuracy\n",
        "    return cp.sum(cp.argmax(yp,axis=1)+1==yt)/yt.shape[0]\n",
        "\n",
        "  def Predict(self,X): #predict test or val\n",
        "    _,_,yp=self.forward_pass(X,self.Ws)\n",
        "    return yp\n",
        "\n",
        "\n",
        "  def evaluate(self,X_test,y_test): # evaluate the model on test\n",
        "    yp=self.Predict(X_test)\n",
        "    acc=self.compute_acc(yp,y_test)\n",
        "    return acc\n",
        "  \n",
        "  def save_model(self,name): #save model as pickle file\n",
        "    model={'Ws':self.Ws,'lr':self.lr,'ld':self.ld,'n_layers':self.n_layers,'n_nodes':self.n_nodes}\n",
        "    with open(name+'.pickle', 'wb') as f:\n",
        "      pickle.dump(model, f)\n",
        "  \n",
        "  def load_model(self,name): # load model to use to continue training or for prediction\n",
        "    with open(name,'rb') as f:\n",
        "      model=pickle.load(f)\n",
        "    \n",
        "    # load all model parameters\n",
        "    self.Ws=model['Ws'] \n",
        "    self.lr=model['lr']\n",
        "    self.n_layers=model['n_layers']\n",
        "    self.ld=model['ld']\n",
        "    self.n_nodes=model['n_nodes']\n",
        "\n",
        "  def CCRn(self,yt,X_test): # correct clssification rate per class\n",
        "    yhat=self.Predict(X_test)\n",
        "    yp=cp.argmax(yhat,axis=1)+1\n",
        "    cls,counts=np.unique(cp.asnumpy(yt),return_counts=True)\n",
        "    ccrns={}\n",
        "    cls_sizes={}\n",
        "    for i,y in enumerate(cp.asnumpy(yt)):\n",
        "      if y in cls_sizes:\n",
        "        cls_sizes[y]+=1\n",
        "      else:\n",
        "        cls_sizes[y]=1\n",
        "      if yp[i]==y:\n",
        "        if y in ccrns:\n",
        "          ccrns[y]+=1\n",
        "        else:\n",
        "          ccrns[y]=1\n",
        "    for c in cls:\n",
        "      ccrns[c]/=cls_sizes[c] #return accuracy by dividing over size of each class \n",
        "    return ccrns\n",
        "  \n",
        "\n",
        "\n",
        "\n",
        "\n",
        "  "
      ],
      "execution_count": null,
      "outputs": []
    },
    {
      "cell_type": "code",
      "metadata": {
        "id": "QWgv_HDpKuvM"
      },
      "source": [
        ""
      ],
      "execution_count": null,
      "outputs": []
    },
    {
      "cell_type": "markdown",
      "metadata": {
        "id": "a-RhgWt8Kv-3"
      },
      "source": [
        "# Hyperparameter Optimization"
      ]
    },
    {
      "cell_type": "markdown",
      "metadata": {
        "id": "Vbx4O9OhKzHL"
      },
      "source": [
        "## Choose NN Architecture"
      ]
    },
    {
      "cell_type": "code",
      "metadata": {
        "id": "cNpWoAw8M7mi"
      },
      "source": [
        "# choose best architecture\n",
        "archs=[]\n",
        "archs.append([Xt.shape[1],256,5]) # 1 layers Architecture\n",
        "\n",
        "archs.append([Xt.shape[1],512,256,5]) # 2 hiddenlayers Architecture\n",
        "archs.append([Xt.shape[1],256,256,5]) # 2 hiddenlayers Architecture\n",
        "\n",
        "archs.append([Xt.shape[1],256,256,128,5]) # 3 hidden layers Architecture\n",
        "archs.append([Xt.shape[1],512,256,128,5]) # 3 hidden layers Architecture\n",
        "Lss=[]\n",
        "for ar in archs:\n",
        "  Ann=ANN(len(ar)-1,ar) #Ann object\n",
        "  H=Ann.Train(Xt,Yt,500,.05,0,verbose=False)\n",
        "  Lss.append(min(H['val_loss']))\n",
        "\n"
      ],
      "execution_count": null,
      "outputs": []
    },
    {
      "cell_type": "code",
      "metadata": {
        "id": "jrwhOleqO64M",
        "outputId": "ee3c430d-3428-493e-d24b-38441bd34e6c",
        "colab": {
          "base_uri": "https://localhost:8080/",
          "height": 298
        }
      },
      "source": [
        "plt.plot(Lss)\n",
        "plt.scatter(range(len(archs)),cp.asnumpy(Lss))\n",
        "plt.title(\"best loss per Arch\")\n"
      ],
      "execution_count": null,
      "outputs": [
        {
          "output_type": "execute_result",
          "data": {
            "text/plain": [
              "Text(0.5, 1.0, 'best loss per Arch')"
            ]
          },
          "metadata": {
            "tags": []
          },
          "execution_count": 533
        },
        {
          "output_type": "display_data",
          "data": {
            "image/png": "[encoded data removed]",
            "text/plain": [
              "<Figure size 432x288 with 1 Axes>"
            ]
          },
          "metadata": {
            "tags": [],
            "needs_background": "light"
          }
        }
      ]
    },
    {
      "cell_type": "markdown",
      "metadata": {
        "id": "gFP1EgTPK5H4"
      },
      "source": [
        "## Learning rate optimization."
      ]
    },
    {
      "cell_type": "markdown",
      "metadata": {
        "id": "N6ZEd7NaLEno"
      },
      "source": [
        "### get lr limits"
      ]
    },
    {
      "cell_type": "code",
      "metadata": {
        "id": "SqBLI6LjM7pz",
        "outputId": "349838a7-59c3-4b96-ad94-91566b236ce7",
        "colab": {
          "base_uri": "https://localhost:8080/"
        }
      },
      "source": [
        "# find best lr\n",
        "# lr limits\n",
        "arch=[Xt.shape[1],256,256,5] #best arch from the above graph\n",
        "high_lr=0.1\n",
        "low_lr=0.0001\n",
        "Lss=[]\n",
        "for lr in [high_lr,low_lr]:\n",
        "  Ann=ANN(len(arch)-1,arch) #Ann object\n",
        "  H=Ann.Train(Xt,Yt,1000,lr,0,verbose=True)\n",
        "\n",
        "  print(\"finished lr %f\"%(lr))\n",
        "  Lss.append(min(H['val_loss']))"
      ],
      "execution_count": null,
      "outputs": [
        {
          "output_type": "stream",
          "text": [
            "Epoch 0 Train Loss is inf and Train Accuracy is   0.166842.. Val Loss is inf & Val Accuracy is 0.179811..\n",
            "Epoch 50 Train Loss is 1.487438 and Train Accuracy is   0.358219.. Val Loss is 1.515974 & Val Accuracy is 0.324921..\n",
            "Epoch 100 Train Loss is 2.968680 and Train Accuracy is   0.194883.. Val Loss is 2.965359 & Val Accuracy is 0.214511..\n",
            "Epoch 150 Train Loss is 1.538708 and Train Accuracy is   0.283561.. Val Loss is 1.579540 & Val Accuracy is 0.258675..\n",
            "Epoch 200 Train Loss is 1.497951 and Train Accuracy is   0.348756.. Val Loss is 1.544058 & Val Accuracy is 0.331230..\n",
            "Epoch 250 Train Loss is 1.623078 and Train Accuracy is   0.262180.. Val Loss is 1.593692 & Val Accuracy is 0.302839..\n",
            "Epoch 300 Train Loss is 1.428913 and Train Accuracy is   0.369786.. Val Loss is 1.489230 & Val Accuracy is 0.365931..\n",
            "Epoch 350 Train Loss is 1.503108 and Train Accuracy is   0.310550.. Val Loss is 1.515045 & Val Accuracy is 0.318612..\n",
            "Epoch 400 Train Loss is 1.372641 and Train Accuracy is   0.384157.. Val Loss is 1.434905 & Val Accuracy is 0.388013..\n",
            "Epoch 450 Train Loss is 1.422789 and Train Accuracy is   0.352261.. Val Loss is 1.507157 & Val Accuracy is 0.378549..\n",
            "Epoch 500 Train Loss is 1.351705 and Train Accuracy is   0.436383.. Val Loss is 1.507533 & Val Accuracy is 0.381703..\n",
            "Epoch 550 Train Loss is 1.339760 and Train Accuracy is   0.421311.. Val Loss is 1.407975 & Val Accuracy is 0.362776..\n",
            "Epoch 600 Train Loss is 1.300290 and Train Accuracy is   0.438836.. Val Loss is 1.355509 & Val Accuracy is 0.451104..\n",
            "Epoch 650 Train Loss is 1.257764 and Train Accuracy is   0.444444.. Val Loss is 1.336614 & Val Accuracy is 0.432177..\n",
            "Epoch 700 Train Loss is 1.203628 and Train Accuracy is   0.489309.. Val Loss is 1.387277 & Val Accuracy is 0.435331..\n",
            "Epoch 750 Train Loss is 1.198445 and Train Accuracy is   0.482650.. Val Loss is 1.413961 & Val Accuracy is 0.419558..\n",
            "Epoch 800 Train Loss is 1.153173 and Train Accuracy is   0.504732.. Val Loss is 1.334626 & Val Accuracy is 0.435331..\n",
            "Epoch 850 Train Loss is 1.125767 and Train Accuracy is   0.517350.. Val Loss is 1.362358 & Val Accuracy is 0.454259..\n",
            "Epoch 900 Train Loss is 1.138557 and Train Accuracy is   0.528917.. Val Loss is 1.287345 & Val Accuracy is 0.463722..\n",
            "Epoch 950 Train Loss is 1.081391 and Train Accuracy is   0.533474.. Val Loss is 1.306883 & Val Accuracy is 0.495268..\n",
            "Epoch 1000 Train Loss is 0.997969 and Train Accuracy is   0.581143.. Val Loss is 1.316278 & Val Accuracy is 0.473186..\n",
            "finished lr 0.100000\n",
            "Epoch 0 Train Loss is 6.714688 and Train Accuracy is   0.239047.. Val Loss is 5.776554 & Val Accuracy is 0.287066..\n",
            "Epoch 50 Train Loss is 2.849171 and Train Accuracy is   0.209954.. Val Loss is 2.461890 & Val Accuracy is 0.312303..\n",
            "Epoch 100 Train Loss is 2.461227 and Train Accuracy is   0.229933.. Val Loss is 2.167604 & Val Accuracy is 0.334385..\n",
            "Epoch 150 Train Loss is 2.321847 and Train Accuracy is   0.244304.. Val Loss is 2.053074 & Val Accuracy is 0.350158..\n",
            "Epoch 200 Train Loss is 2.214044 and Train Accuracy is   0.262180.. Val Loss is 1.965143 & Val Accuracy is 0.362776..\n",
            "Epoch 250 Train Loss is 2.128008 and Train Accuracy is   0.273046.. Val Loss is 1.898059 & Val Accuracy is 0.369085..\n",
            "Epoch 300 Train Loss is 2.058024 and Train Accuracy is   0.284963.. Val Loss is 1.843837 & Val Accuracy is 0.375394..\n",
            "Epoch 350 Train Loss is 2.000029 and Train Accuracy is   0.294777.. Val Loss is 1.799620 & Val Accuracy is 0.381703..\n",
            "Epoch 400 Train Loss is 1.951057 and Train Accuracy is   0.304241.. Val Loss is 1.762016 & Val Accuracy is 0.400631..\n",
            "Epoch 450 Train Loss is 1.909397 and Train Accuracy is   0.312303.. Val Loss is 1.731345 & Val Accuracy is 0.394322..\n",
            "Epoch 500 Train Loss is 1.872459 and Train Accuracy is   0.318612.. Val Loss is 1.705173 & Val Accuracy is 0.397476..\n",
            "Epoch 550 Train Loss is 1.838743 and Train Accuracy is   0.326323.. Val Loss is 1.682343 & Val Accuracy is 0.397476..\n",
            "Epoch 600 Train Loss is 1.807956 and Train Accuracy is   0.331581.. Val Loss is 1.662311 & Val Accuracy is 0.391167..\n",
            "Epoch 650 Train Loss is 1.780420 and Train Accuracy is   0.339292.. Val Loss is 1.645517 & Val Accuracy is 0.394322..\n",
            "Epoch 700 Train Loss is 1.756078 and Train Accuracy is   0.343849.. Val Loss is 1.631122 & Val Accuracy is 0.397476..\n",
            "Epoch 750 Train Loss is 1.733926 and Train Accuracy is   0.349106.. Val Loss is 1.618334 & Val Accuracy is 0.391167..\n",
            "Epoch 800 Train Loss is 1.713510 and Train Accuracy is   0.355415.. Val Loss is 1.606507 & Val Accuracy is 0.388013..\n",
            "Epoch 850 Train Loss is 1.694789 and Train Accuracy is   0.358570.. Val Loss is 1.596223 & Val Accuracy is 0.394322..\n",
            "Epoch 900 Train Loss is 1.677311 and Train Accuracy is   0.361023.. Val Loss is 1.586806 & Val Accuracy is 0.391167..\n",
            "Epoch 950 Train Loss is 1.660739 and Train Accuracy is   0.365580.. Val Loss is 1.577830 & Val Accuracy is 0.391167..\n",
            "Epoch 1000 Train Loss is 1.645226 and Train Accuracy is   0.367683.. Val Loss is 1.569438 & Val Accuracy is 0.403785..\n",
            "finished lr 0.000100\n"
          ],
          "name": "stdout"
        }
      ]
    },
    {
      "cell_type": "markdown",
      "metadata": {
        "id": "qKTodrN8LT_j"
      },
      "source": [
        "### run coarse search"
      ]
    },
    {
      "cell_type": "code",
      "metadata": {
        "id": "xaIXQa4uM7wu"
      },
      "source": [
        "# coarse search for lr\n",
        "#try 100 values\n",
        "Lss={}\n",
        "for i in range(100):\n",
        "  lr=10**np.random.uniform(-1,-5) # limits of lr are 10^-1, 10^-4\n",
        "  Ann=ANN(len(arch)-1,arch) #Ann object\n",
        "  H=Ann.Train(Xt,Yt,200,lr,0,verbose=False)\n",
        "  print(\"finished lr %f, min loss %f\"%(lr,min(H['val_loss'])))\n",
        "  Lss[lr]=(min(H['val_loss']))"
      ],
      "execution_count": null,
      "outputs": []
    },
    {
      "cell_type": "code",
      "metadata": {
        "id": "n0zew-FgSY93",
        "outputId": "b150d0d4-4a7a-41a4-f707-afefde48aa08",
        "colab": {
          "base_uri": "https://localhost:8080/",
          "height": 312
        }
      },
      "source": [
        "ls=cp.asnumpy(list(Lss.values()))\n",
        "plt.scatter(list(Lss.keys()),ls)\n",
        "plt.xlabel(\"lr\")\n",
        "plt.ylabel('val loss')\n",
        "plt.title(\"best loss per lr\")"
      ],
      "execution_count": null,
      "outputs": [
        {
          "output_type": "execute_result",
          "data": {
            "text/plain": [
              "Text(0.5, 1.0, 'best loss per lr')"
            ]
          },
          "metadata": {
            "tags": []
          },
          "execution_count": 697
        },
        {
          "output_type": "display_data",
          "data": {
            "image/png": "[encoded data removed]",
            "text/plain": [
              "<Figure size 432x288 with 1 Axes>"
            ]
          },
          "metadata": {
            "tags": [],
            "needs_background": "light"
          }
        }
      ]
    },
    {
      "cell_type": "markdown",
      "metadata": {
        "id": "ef4CRQqPLYWl"
      },
      "source": [
        "### run finer search"
      ]
    },
    {
      "cell_type": "code",
      "metadata": {
        "id": "vkEEUrERTHwR"
      },
      "source": [
        "# run finer search\n",
        "Lss={}\n",
        "for i in range(100):\n",
        "  lr=10**np.random.uniform(-1,-2) # best lr is in 10^-2 range\n",
        "  Ann=ANN(len(arch)-1,arch) #Ann object\n",
        "  H=Ann.Train(Xt,Yt,500,lr,0,verbose=False)\n",
        "  print(\"finished lr %f, min loss %f\"%(lr,min(H['val_loss'])))\n",
        "  Lss[lr]=(min(H['val_loss']))\n",
        "  \n"
      ],
      "execution_count": null,
      "outputs": []
    },
    {
      "cell_type": "code",
      "metadata": {
        "id": "YGLLgeY2hIK2",
        "outputId": "f506e710-fb39-4f7a-ff68-23199e7dd120",
        "colab": {
          "base_uri": "https://localhost:8080/",
          "height": 312
        }
      },
      "source": [
        "ls2=cp.asnumpy(list(Lss.values()))\n",
        "plt.scatter(list(Lss.keys()),ls2) # \n",
        "plt.xlabel(\"lr\")\n",
        "plt.ylabel('val loss')\n",
        "plt.title(\"best loss per lr\") # the best is around 0.05"
      ],
      "execution_count": null,
      "outputs": [
        {
          "output_type": "execute_result",
          "data": {
            "text/plain": [
              "Text(0.5, 1.0, 'best loss per lr')"
            ]
          },
          "metadata": {
            "tags": []
          },
          "execution_count": 699
        },
        {
          "output_type": "display_data",
          "data": {
            "image/png": "[encoded data removed]",
            "text/plain": [
              "<Figure size 432x288 with 1 Axes>"
            ]
          },
          "metadata": {
            "tags": [],
            "needs_background": "light"
          }
        }
      ]
    },
    {
      "cell_type": "markdown",
      "metadata": {
        "id": "I_5-EB5DLwmk"
      },
      "source": [
        "## Get *best* Lambda "
      ]
    },
    {
      "cell_type": "code",
      "metadata": {
        "id": "MZsbgwrswhj0"
      },
      "source": [
        "#choose best lambda\n",
        "Lss={}\n",
        "for i in range(100):\n",
        "  ld=10**np.random.uniform(0,-1) # best ld is in > 10^-1 range\n",
        "  Ann=ANN(len(arch)-1,arch) #Ann object\n",
        "  H=Ann.Train(Xt,Yt,500,0.055,ld,verbose=False) #best lr\n",
        "  #print(\"finished ld %f, min loss %f\"%(ld,min(H['val_loss'])))\n",
        "  Lss[ld]=(min(H['val_loss']))\n"
      ],
      "execution_count": null,
      "outputs": []
    },
    {
      "cell_type": "code",
      "metadata": {
        "id": "7QhC4Eh9JBLS"
      },
      "source": [
        "# try no reg.\n",
        "Ann=ANN(len(arch)-1,arch) #Ann object\n",
        "H=Ann.Train(Xt,Yt,500,0.05,0,verbose=False) #best lr\n",
        "#print(\"finished ld %f, min loss %f\"%(ld,min(H['val_loss'])))\n",
        "ls_0=(min(H['val_loss']))"
      ],
      "execution_count": null,
      "outputs": []
    },
    {
      "cell_type": "code",
      "metadata": {
        "id": "9zufl0D3zniY",
        "outputId": "f057d98b-69f0-4202-ab52-7401e21e5fab",
        "colab": {
          "base_uri": "https://localhost:8080/",
          "height": 312
        }
      },
      "source": [
        "#no regulization\n",
        "ls3=cp.asnumpy(list(Lss.values()))\n",
        "plt.scatter(list(Lss.keys()),ls3) # \n",
        "plt.scatter(0,cp.asnumpy(ls_0))\n",
        "plt.xlabel(\"lambda\")\n",
        "plt.ylabel('val loss')\n",
        "plt.title(\"best loss per lambda\") # the best lambda 0.1"
      ],
      "execution_count": null,
      "outputs": [
        {
          "output_type": "execute_result",
          "data": {
            "text/plain": [
              "Text(0.5, 1.0, 'best loss per lambda')"
            ]
          },
          "metadata": {
            "tags": []
          },
          "execution_count": 828
        },
        {
          "output_type": "display_data",
          "data": {
            "image/png": "[encoded data removed]",
            "text/plain": [
              "<Figure size 432x288 with 1 Axes>"
            ]
          },
          "metadata": {
            "tags": [],
            "needs_background": "light"
          }
        }
      ]
    },
    {
      "cell_type": "markdown",
      "metadata": {
        "id": "fcl-FXVFMJwt"
      },
      "source": [
        "#Use best parameters for training"
      ]
    },
    {
      "cell_type": "code",
      "metadata": {
        "id": "PyYyQDMaMI_h"
      },
      "source": [
        "mu=Xt.mean(axis=0)\n",
        "si=Xt.std(axis=0)\n",
        "Xt-=mu\n",
        "Xt/=si"
      ],
      "execution_count": null,
      "outputs": []
    },
    {
      "cell_type": "code",
      "metadata": {
        "id": "l19-VcBm4ERF",
        "outputId": "4de17088-c144-40d1-f7c2-e65ca9e31ce9",
        "colab": {
          "base_uri": "https://localhost:8080/"
        }
      },
      "source": [
        "n_nodes=[Xt.shape[1],256,256,5] #Best ANN Architecture\n",
        "Ann=ANN(len(n_nodes)-1,n_nodes) #Ann object\n",
        "H=Ann.Train(Xt,Yt,1000,.0011,0.1) # best lr., 0.1 lambda regulrization"
      ],
      "execution_count": null,
      "outputs": [
        {
          "output_type": "stream",
          "text": [
            "Epoch 0 Train Loss is 17.902232 and Train Accuracy is   0.184367.. Val Loss is 17.704297 & Val Accuracy is 0.189274..\n",
            "Epoch 50 Train Loss is 4.025685 and Train Accuracy is   0.388013.. Val Loss is 4.983820 & Val Accuracy is 0.356467..\n",
            "Epoch 100 Train Loss is 2.925177 and Train Accuracy is   0.464774.. Val Loss is 4.154072 & Val Accuracy is 0.388013..\n",
            "Epoch 150 Train Loss is 2.320187 and Train Accuracy is   0.519453.. Val Loss is 3.796017 & Val Accuracy is 0.413249..\n",
            "Epoch 200 Train Loss is 1.902604 and Train Accuracy is   0.563968.. Val Loss is 3.586303 & Val Accuracy is 0.422713..\n",
            "Epoch 250 Train Loss is 1.590231 and Train Accuracy is   0.604627.. Val Loss is 3.445991 & Val Accuracy is 0.432177..\n",
            "Epoch 300 Train Loss is 1.348302 and Train Accuracy is   0.648090.. Val Loss is 3.345585 & Val Accuracy is 0.438486..\n",
            "Epoch 350 Train Loss is 1.154703 and Train Accuracy is   0.691553.. Val Loss is 3.273785 & Val Accuracy is 0.438486..\n",
            "Epoch 400 Train Loss is 0.997648 and Train Accuracy is   0.727655.. Val Loss is 3.211834 & Val Accuracy is 0.438486..\n",
            "Epoch 450 Train Loss is 0.868257 and Train Accuracy is   0.762355.. Val Loss is 3.158113 & Val Accuracy is 0.438486..\n",
            "Epoch 500 Train Loss is 0.760230 and Train Accuracy is   0.790747.. Val Loss is 3.112569 & Val Accuracy is 0.435331..\n",
            "Epoch 550 Train Loss is 0.669344 and Train Accuracy is   0.813179.. Val Loss is 3.073455 & Val Accuracy is 0.435331..\n",
            "Epoch 600 Train Loss is 0.592680 and Train Accuracy is   0.837715.. Val Loss is 3.039704 & Val Accuracy is 0.432177..\n",
            "Epoch 650 Train Loss is 0.527926 and Train Accuracy is   0.858745.. Val Loss is 3.011278 & Val Accuracy is 0.435331..\n",
            "Epoch 700 Train Loss is 0.472702 and Train Accuracy is   0.877673.. Val Loss is 2.987370 & Val Accuracy is 0.438486..\n",
            "Epoch 750 Train Loss is 0.425189 and Train Accuracy is   0.891342.. Val Loss is 2.967194 & Val Accuracy is 0.435331..\n",
            "Epoch 800 Train Loss is 0.384224 and Train Accuracy is   0.907115.. Val Loss is 2.950008 & Val Accuracy is 0.438486..\n",
            "Epoch 850 Train Loss is 0.348876 and Train Accuracy is   0.918332.. Val Loss is 2.936327 & Val Accuracy is 0.441640..\n",
            "Epoch 900 Train Loss is 0.318183 and Train Accuracy is   0.931300.. Val Loss is 2.924133 & Val Accuracy is 0.441640..\n",
            "Epoch 950 Train Loss is 0.291376 and Train Accuracy is   0.939012.. Val Loss is 2.914012 & Val Accuracy is 0.441640..\n",
            "Epoch 1000 Train Loss is 0.267763 and Train Accuracy is   0.947424.. Val Loss is 2.904851 & Val Accuracy is 0.444795..\n"
          ],
          "name": "stdout"
        }
      ]
    },
    {
      "cell_type": "markdown",
      "metadata": {
        "id": "BeCqwO7ZMcc_"
      },
      "source": [
        "## Plot Val and Train Loss and Accuracies"
      ]
    },
    {
      "cell_type": "code",
      "metadata": {
        "id": "YTaIB7B-tInP",
        "outputId": "586a0309-ff93-4d62-9151-04a1a2431650",
        "colab": {
          "base_uri": "https://localhost:8080/",
          "height": 295
        }
      },
      "source": [
        "import matplotlib.pyplot as plt\n",
        "plt.plot(H['train_loss'][3:])\n",
        "plt.plot(H['val_loss'][3:])\n",
        "plt.legend(('train loss','val losss'))\n",
        "plt.title('loss')\n",
        "plt.xlabel('epoch')\n",
        "plt.ylabel('loss value')\n",
        "plt.show()"
      ],
      "execution_count": null,
      "outputs": [
        {
          "output_type": "display_data",
          "data": {
            "image/png": "[encoded data removed]",
            "text/plain": [
              "<Figure size 432x288 with 1 Axes>"
            ]
          },
          "metadata": {
            "tags": [],
            "needs_background": "light"
          }
        }
      ]
    },
    {
      "cell_type": "code",
      "metadata": {
        "id": "06fz_D1_t6UO",
        "outputId": "da6a590f-f5db-4dcd-d4a5-c8a2dd51d9e0",
        "colab": {
          "base_uri": "https://localhost:8080/",
          "height": 295
        }
      },
      "source": [
        "plt.plot(H['train_acc'])\n",
        "plt.plot(H['val_acc'])\n",
        "plt.legend(('train acc','val acc'))\n",
        "plt.title('accuracy')\n",
        "plt.xlabel('epoch')\n",
        "plt.ylabel('Accuracy')\n",
        "plt.show()"
      ],
      "execution_count": null,
      "outputs": [
        {
          "output_type": "display_data",
          "data": {
            "image/png": "[encoded data removed]",
            "text/plain": [
              "<Figure size 432x288 with 1 Axes>"
            ]
          },
          "metadata": {
            "tags": [],
            "needs_background": "light"
          }
        }
      ]
    },
    {
      "cell_type": "markdown",
      "metadata": {
        "id": "tp6GIeNcNHmu"
      },
      "source": [
        "## CCRN for classes"
      ]
    },
    {
      "cell_type": "code",
      "metadata": {
        "id": "5y-OdPNmdXNU",
        "outputId": "fa67606b-1370-4d38-d139-27c255138ac1",
        "colab": {
          "base_uri": "https://localhost:8080/"
        }
      },
      "source": [
        "ccrns=Ann.CCRn(y_test,X_test)\n",
        "names=[\"daisy\", \"dandelion\", \"roses\", \"sunflowers\", \"tulips\"]\n",
        "print((ccrns))\n",
        "for k in sorted(ccrns):\n",
        "  print( 'accuracy for class %d (%s) is %f'%(k,names[k-1],ccrns[k]))"
      ],
      "execution_count": null,
      "outputs": [
        {
          "output_type": "stream",
          "text": [
            "{4: 0.75, 1: 0.38, 5: 0.58, 3: 0.45, 2: 0.53}\n",
            "accuracy for class 1 (daisy) is 0.380000\n",
            "accuracy for class 2 (dandelion) is 0.530000\n",
            "accuracy for class 3 (roses) is 0.450000\n",
            "accuracy for class 4 (sunflowers) is 0.750000\n",
            "accuracy for class 5 (tulips) is 0.580000\n"
          ],
          "name": "stdout"
        }
      ]
    },
    {
      "cell_type": "code",
      "metadata": {
        "id": "twIyN62XdYsN",
        "outputId": "2c056d66-96ad-439d-fe79-9c8a6eddb2f7",
        "colab": {
          "base_uri": "https://localhost:8080/",
          "height": 295
        }
      },
      "source": [
        "#represent them in bar chart\n",
        "plt.bar(ccrns.keys(),ccrns.values())\n",
        "plt.xlabel(\"classes\")\n",
        "plt.ylabel(\"accuracy\")\n",
        "plt.title(\"CCRn\")\n",
        "plt.show()"
      ],
      "execution_count": null,
      "outputs": [
        {
          "output_type": "display_data",
          "data": {
            "image/png": "[encoded data removed]",
            "text/plain": [
              "<Figure size 432x288 with 1 Axes>"
            ]
          },
          "metadata": {
            "tags": [],
            "needs_background": "light"
          }
        }
      ]
    },
    {
      "cell_type": "markdown",
      "metadata": {
        "id": "8kTqEjnvNvdH"
      },
      "source": [
        "## ACCR for all classes"
      ]
    },
    {
      "cell_type": "code",
      "metadata": {
        "id": "Omt_W_p1uJp1",
        "outputId": "27f5fc11-6362-4fa0-9a71-6055071f176e",
        "colab": {
          "base_uri": "https://localhost:8080/"
        }
      },
      "source": [
        "print(\"Average Accuracy \",Ann.evaluate((X_test-mu)/si,y_test))"
      ],
      "execution_count": null,
      "outputs": [
        {
          "output_type": "stream",
          "text": [
            "Average Accuracy  0.404\n"
          ],
          "name": "stdout"
        }
      ]
    },
    {
      "cell_type": "code",
      "metadata": {
        "id": "bInCOjZUEiVk"
      },
      "source": [
        "# if the model is better save it\n",
        "Ann.save_model('model_reg2')"
      ],
      "execution_count": null,
      "outputs": []
    },
    {
      "cell_type": "markdown",
      "metadata": {
        "id": "zL5B0lFONztv"
      },
      "source": [
        "# Load the best Models and print best ACCR"
      ]
    },
    {
      "cell_type": "code",
      "metadata": {
        "id": "1mzwAmGcXhZ0"
      },
      "source": [
        "#Load the best model with no regularization\n",
        "Ann.load_model('/content/drive/My Drive/PMDL/A2/model_no_reg.pickle')"
      ],
      "execution_count": null,
      "outputs": []
    },
    {
      "cell_type": "code",
      "metadata": {
        "id": "pwHZZBbjX5o2",
        "outputId": "fddbd755-fc2c-48b1-93ae-94b1dbd44697",
        "colab": {
          "base_uri": "https://localhost:8080/"
        }
      },
      "source": [
        "print(Ann.n_layers)\n",
        "print(\"Best reg Model Arch and parameters (lr, lambda): \", Ann.n_nodes,Ann.lr, Ann.ld)\n",
        "print(\"Best reg model Average Accuracy \",Ann.evaluate(X_test,y_test))\n",
        "print(\"Best reg model  Accuracy on training set \",Ann.evaluate(Xt,Yt))"
      ],
      "execution_count": null,
      "outputs": [
        {
          "output_type": "stream",
          "text": [
            "3\n",
            "Best reg Model Arch and parameters (lr, lambda):  [3072, 256, 256, 5] 0.055 0\n",
            "Best reg model Average Accuracy  0.542\n",
            "Best reg model  Accuracy on training set  0.47318611987381703\n"
          ],
          "name": "stdout"
        }
      ]
    },
    {
      "cell_type": "code",
      "metadata": {
        "id": "ejTVbuNbYLjA",
        "outputId": "e5c9b322-8f45-491f-fe34-413b636acd9f",
        "colab": {
          "base_uri": "https://localhost:8080/",
          "height": 295
        }
      },
      "source": [
        "#represent them in bar chart\n",
        "plt.bar(ccrns.keys(),ccrns.values())\n",
        "plt.xlabel(\"classes\")\n",
        "plt.ylabel(\"accuracy\")\n",
        "plt.title(\"best no reg model  CCRn\")\n",
        "plt.show()"
      ],
      "execution_count": null,
      "outputs": [
        {
          "output_type": "display_data",
          "data": {
            "image/png": "[encoded data removed]",
            "text/plain": [
              "<Figure size 432x288 with 1 Axes>"
            ]
          },
          "metadata": {
            "tags": [],
            "needs_background": "light"
          }
        }
      ]
    },
    {
      "cell_type": "code",
      "metadata": {
        "id": "M7MsGV8sYbbV"
      },
      "source": [
        ""
      ],
      "execution_count": null,
      "outputs": []
    },
    {
      "cell_type": "code",
      "metadata": {
        "id": "VYKEO40RFBYq"
      },
      "source": [
        "#Load the best model with regularization\n",
        "Ann.load_model('/content/drive/My Drive/PMDL/A2/model_L2reg.pickle')"
      ],
      "execution_count": null,
      "outputs": []
    },
    {
      "cell_type": "code",
      "metadata": {
        "id": "CYimFeyyy_Yy",
        "outputId": "78ceb0a7-a8d2-4fe3-8680-e87275cb5455",
        "colab": {
          "base_uri": "https://localhost:8080/"
        }
      },
      "source": [
        "print(Ann.n_layers)\n",
        "print(\"Best reg Model Arch and parameters (lr, lambda): \", Ann.n_nodes,Ann.lr, Ann.ld)\n",
        "print(\"Best reg model Average Accuracy \",Ann.evaluate(X_test,y_test))"
      ],
      "execution_count": null,
      "outputs": [
        {
          "output_type": "stream",
          "text": [
            "3\n",
            "Best reg Model Arch and parameters (lr, lambda):  [3072, 256, 256, 5] 0.055 0.1\n",
            "Best reg model Average Accuracy  0.538\n"
          ],
          "name": "stdout"
        }
      ]
    },
    {
      "cell_type": "code",
      "metadata": {
        "id": "-gdkNzrky_ck",
        "outputId": "77b2c3a0-b393-430c-bb0e-6614705fb4aa",
        "colab": {
          "base_uri": "https://localhost:8080/"
        }
      },
      "source": [
        "print(\"Best reg model  Accuracy on training set \",Ann.evaluate(Xt,Yt))"
      ],
      "execution_count": null,
      "outputs": [
        {
          "output_type": "stream",
          "text": [
            "Best reg model  Accuracy on training set  0.8936908517350157\n"
          ],
          "name": "stdout"
        }
      ]
    },
    {
      "cell_type": "code",
      "metadata": {
        "id": "9gjKW-nZXYUJ",
        "outputId": "09f7bee0-aad4-435e-f6f9-885ed351aa27",
        "colab": {
          "base_uri": "https://localhost:8080/",
          "height": 295
        }
      },
      "source": [
        "#represent them in bar chart\n",
        "plt.bar(ccrns.keys(),ccrns.values())\n",
        "plt.xlabel(\"classes\")\n",
        "plt.ylabel(\"accuracy\")\n",
        "plt.title(\"best reg model CCRn\")\n",
        "plt.show()"
      ],
      "execution_count": null,
      "outputs": [
        {
          "output_type": "display_data",
          "data": {
            "image/png": "[encoded data removed]",
            "text/plain": [
              "<Figure size 432x288 with 1 Axes>"
            ]
          },
          "metadata": {
            "tags": [],
            "needs_background": "light"
          }
        }
      ]
    },
    {
      "cell_type": "markdown",
      "metadata": {
        "id": "M50Hj0iSOakS"
      },
      "source": [
        "# Compare against TF model of the same Architecture"
      ]
    },
    {
      "cell_type": "code",
      "metadata": {
        "id": "svRUD8Oty_XL"
      },
      "source": [
        "# try an equivalant tensorflow model\n",
        "X_train=cp.asnumpy(Xt)\n",
        "y_train=cp.asnumpy(Yt)\n",
        "Y=keras.utils.to_categorical((y_train).reshape(-1,1))\n",
        "Y=Y[:,1:]"
      ],
      "execution_count": null,
      "outputs": []
    },
    {
      "cell_type": "code",
      "metadata": {
        "id": "8cf8zThveamN"
      },
      "source": [
        "import tensorflow as tf\n",
        "keras=tf.keras\n",
        "model=keras.Sequential()\n",
        "model.add(keras.layers.Input(X_train.shape[1:]))\n",
        "\n",
        "\n",
        "model.add(keras.layers.Dense(256,'relu'))\n",
        "\n",
        "model.add(keras.layers.Dense(256,'relu'))\n",
        "\n",
        "model.add(keras.layers.Dense(5,'softmax'))\n",
        "model.compile(keras.optimizers.Adam(),loss=keras.losses.categorical_crossentropy,metrics=['accuracy'])\n"
      ],
      "execution_count": null,
      "outputs": []
    },
    {
      "cell_type": "code",
      "metadata": {
        "id": "Ih8ns4fHzLyD",
        "outputId": "8c06862a-53db-409d-bbb7-c45a3be0276c",
        "colab": {
          "base_uri": "https://localhost:8080/"
        }
      },
      "source": [
        "model.summary()"
      ],
      "execution_count": null,
      "outputs": [
        {
          "output_type": "stream",
          "text": [
            "Model: \"sequential_9\"\n",
            "_________________________________________________________________\n",
            "Layer (type)                 Output Shape              Param #   \n",
            "=================================================================\n",
            "dense_24 (Dense)             (None, 256)               786688    \n",
            "_________________________________________________________________\n",
            "dense_25 (Dense)             (None, 256)               65792     \n",
            "_________________________________________________________________\n",
            "dense_26 (Dense)             (None, 5)                 1285      \n",
            "=================================================================\n",
            "Total params: 853,765\n",
            "Trainable params: 853,765\n",
            "Non-trainable params: 0\n",
            "_________________________________________________________________\n"
          ],
          "name": "stdout"
        }
      ]
    },
    {
      "cell_type": "code",
      "metadata": {
        "id": "j2iaLIdsze-E",
        "outputId": "ad0401b0-1a62-4a0d-c56b-b51a15ffa602",
        "colab": {
          "base_uri": "https://localhost:8080/"
        }
      },
      "source": [
        "model.fit((X_train),Y,batch_size=1024,epochs=150,validation_split=0.1)"
      ],
      "execution_count": null,
      "outputs": [
        {
          "output_type": "stream",
          "text": [
            "Epoch 1/150\n",
            "3/3 [==============================] - 0s 44ms/step - loss: 2.1381 - accuracy: 0.2646 - val_loss: 1.8147 - val_accuracy: 0.2776\n",
            "Epoch 2/150\n",
            "3/3 [==============================] - 0s 12ms/step - loss: 1.6671 - accuracy: 0.2503 - val_loss: 1.6068 - val_accuracy: 0.2839\n",
            "Epoch 3/150\n",
            "3/3 [==============================] - 0s 12ms/step - loss: 1.5015 - accuracy: 0.3743 - val_loss: 1.4507 - val_accuracy: 0.3785\n",
            "Epoch 4/150\n",
            "3/3 [==============================] - 0s 11ms/step - loss: 1.4178 - accuracy: 0.3757 - val_loss: 1.4170 - val_accuracy: 0.3943\n",
            "Epoch 5/150\n",
            "3/3 [==============================] - 0s 12ms/step - loss: 1.3713 - accuracy: 0.4182 - val_loss: 1.4085 - val_accuracy: 0.3596\n",
            "Epoch 6/150\n",
            "3/3 [==============================] - 0s 11ms/step - loss: 1.3236 - accuracy: 0.4322 - val_loss: 1.3734 - val_accuracy: 0.3943\n",
            "Epoch 7/150\n",
            "3/3 [==============================] - 0s 12ms/step - loss: 1.2893 - accuracy: 0.4487 - val_loss: 1.3338 - val_accuracy: 0.4101\n",
            "Epoch 8/150\n",
            "3/3 [==============================] - 0s 12ms/step - loss: 1.2664 - accuracy: 0.4525 - val_loss: 1.3411 - val_accuracy: 0.3849\n",
            "Epoch 9/150\n",
            "3/3 [==============================] - 0s 11ms/step - loss: 1.2414 - accuracy: 0.4725 - val_loss: 1.2828 - val_accuracy: 0.4353\n",
            "Epoch 10/150\n",
            "3/3 [==============================] - 0s 11ms/step - loss: 1.2344 - accuracy: 0.4567 - val_loss: 1.3056 - val_accuracy: 0.4511\n",
            "Epoch 11/150\n",
            "3/3 [==============================] - 0s 11ms/step - loss: 1.2231 - accuracy: 0.4791 - val_loss: 1.3078 - val_accuracy: 0.4511\n",
            "Epoch 12/150\n",
            "3/3 [==============================] - 0s 11ms/step - loss: 1.1974 - accuracy: 0.4802 - val_loss: 1.2692 - val_accuracy: 0.4543\n",
            "Epoch 13/150\n",
            "3/3 [==============================] - 0s 11ms/step - loss: 1.1889 - accuracy: 0.4942 - val_loss: 1.3031 - val_accuracy: 0.4196\n",
            "Epoch 14/150\n",
            "3/3 [==============================] - 0s 12ms/step - loss: 1.1844 - accuracy: 0.4949 - val_loss: 1.2650 - val_accuracy: 0.4795\n",
            "Epoch 15/150\n",
            "3/3 [==============================] - 0s 12ms/step - loss: 1.1620 - accuracy: 0.5002 - val_loss: 1.2626 - val_accuracy: 0.4479\n",
            "Epoch 16/150\n",
            "3/3 [==============================] - 0s 12ms/step - loss: 1.1548 - accuracy: 0.5096 - val_loss: 1.2788 - val_accuracy: 0.4574\n",
            "Epoch 17/150\n",
            "3/3 [==============================] - 0s 10ms/step - loss: 1.1489 - accuracy: 0.5051 - val_loss: 1.2553 - val_accuracy: 0.4732\n",
            "Epoch 18/150\n",
            "3/3 [==============================] - 0s 11ms/step - loss: 1.1377 - accuracy: 0.5310 - val_loss: 1.2690 - val_accuracy: 0.4574\n",
            "Epoch 19/150\n",
            "3/3 [==============================] - 0s 14ms/step - loss: 1.1212 - accuracy: 0.5300 - val_loss: 1.2802 - val_accuracy: 0.4416\n",
            "Epoch 20/150\n",
            "3/3 [==============================] - 0s 11ms/step - loss: 1.1263 - accuracy: 0.5226 - val_loss: 1.2594 - val_accuracy: 0.4637\n",
            "Epoch 21/150\n",
            "3/3 [==============================] - 0s 12ms/step - loss: 1.1094 - accuracy: 0.5461 - val_loss: 1.2750 - val_accuracy: 0.4416\n",
            "Epoch 22/150\n",
            "3/3 [==============================] - 0s 11ms/step - loss: 1.1062 - accuracy: 0.5391 - val_loss: 1.2232 - val_accuracy: 0.4574\n",
            "Epoch 23/150\n",
            "3/3 [==============================] - 0s 10ms/step - loss: 1.0870 - accuracy: 0.5573 - val_loss: 1.2473 - val_accuracy: 0.4795\n",
            "Epoch 24/150\n",
            "3/3 [==============================] - 0s 11ms/step - loss: 1.0739 - accuracy: 0.5605 - val_loss: 1.2257 - val_accuracy: 0.4543\n",
            "Epoch 25/150\n",
            "3/3 [==============================] - 0s 11ms/step - loss: 1.0675 - accuracy: 0.5545 - val_loss: 1.2271 - val_accuracy: 0.4858\n",
            "Epoch 26/150\n",
            "3/3 [==============================] - 0s 11ms/step - loss: 1.0565 - accuracy: 0.5731 - val_loss: 1.2256 - val_accuracy: 0.4732\n",
            "Epoch 27/150\n",
            "3/3 [==============================] - 0s 11ms/step - loss: 1.0408 - accuracy: 0.5818 - val_loss: 1.2712 - val_accuracy: 0.4669\n",
            "Epoch 28/150\n",
            "3/3 [==============================] - 0s 10ms/step - loss: 1.0534 - accuracy: 0.5717 - val_loss: 1.2056 - val_accuracy: 0.5016\n",
            "Epoch 29/150\n",
            "3/3 [==============================] - 0s 12ms/step - loss: 1.0353 - accuracy: 0.5832 - val_loss: 1.2756 - val_accuracy: 0.4732\n",
            "Epoch 30/150\n",
            "3/3 [==============================] - 0s 12ms/step - loss: 1.0354 - accuracy: 0.5885 - val_loss: 1.2762 - val_accuracy: 0.4448\n",
            "Epoch 31/150\n",
            "3/3 [==============================] - 0s 11ms/step - loss: 1.0404 - accuracy: 0.5804 - val_loss: 1.2224 - val_accuracy: 0.4795\n",
            "Epoch 32/150\n",
            "3/3 [==============================] - 0s 10ms/step - loss: 1.0159 - accuracy: 0.5864 - val_loss: 1.2339 - val_accuracy: 0.5079\n",
            "Epoch 33/150\n",
            "3/3 [==============================] - 0s 11ms/step - loss: 1.0013 - accuracy: 0.6043 - val_loss: 1.2246 - val_accuracy: 0.4763\n",
            "Epoch 34/150\n",
            "3/3 [==============================] - 0s 10ms/step - loss: 0.9839 - accuracy: 0.6095 - val_loss: 1.2289 - val_accuracy: 0.4921\n",
            "Epoch 35/150\n",
            "3/3 [==============================] - 0s 11ms/step - loss: 0.9713 - accuracy: 0.6267 - val_loss: 1.2301 - val_accuracy: 0.4669\n",
            "Epoch 36/150\n",
            "3/3 [==============================] - 0s 10ms/step - loss: 0.9568 - accuracy: 0.6306 - val_loss: 1.2162 - val_accuracy: 0.4890\n",
            "Epoch 37/150\n",
            "3/3 [==============================] - 0s 11ms/step - loss: 0.9453 - accuracy: 0.6355 - val_loss: 1.2054 - val_accuracy: 0.4795\n",
            "Epoch 38/150\n",
            "3/3 [==============================] - 0s 11ms/step - loss: 0.9317 - accuracy: 0.6463 - val_loss: 1.1983 - val_accuracy: 0.4826\n",
            "Epoch 39/150\n",
            "3/3 [==============================] - 0s 12ms/step - loss: 0.9316 - accuracy: 0.6390 - val_loss: 1.2008 - val_accuracy: 0.4890\n",
            "Epoch 40/150\n",
            "3/3 [==============================] - 0s 10ms/step - loss: 0.9164 - accuracy: 0.6467 - val_loss: 1.2042 - val_accuracy: 0.4858\n",
            "Epoch 41/150\n",
            "3/3 [==============================] - 0s 11ms/step - loss: 0.9119 - accuracy: 0.6660 - val_loss: 1.2011 - val_accuracy: 0.4890\n",
            "Epoch 42/150\n",
            "3/3 [==============================] - 0s 13ms/step - loss: 0.9016 - accuracy: 0.6579 - val_loss: 1.2488 - val_accuracy: 0.4826\n",
            "Epoch 43/150\n",
            "3/3 [==============================] - 0s 11ms/step - loss: 0.9017 - accuracy: 0.6590 - val_loss: 1.2283 - val_accuracy: 0.5079\n",
            "Epoch 44/150\n",
            "3/3 [==============================] - 0s 11ms/step - loss: 0.8898 - accuracy: 0.6695 - val_loss: 1.2318 - val_accuracy: 0.4795\n",
            "Epoch 45/150\n",
            "3/3 [==============================] - 0s 11ms/step - loss: 0.8781 - accuracy: 0.6723 - val_loss: 1.2678 - val_accuracy: 0.4890\n",
            "Epoch 46/150\n",
            "3/3 [==============================] - 0s 11ms/step - loss: 0.8886 - accuracy: 0.6628 - val_loss: 1.2355 - val_accuracy: 0.5079\n",
            "Epoch 47/150\n",
            "3/3 [==============================] - 0s 12ms/step - loss: 0.8781 - accuracy: 0.6635 - val_loss: 1.2251 - val_accuracy: 0.4890\n",
            "Epoch 48/150\n",
            "3/3 [==============================] - 0s 11ms/step - loss: 0.8643 - accuracy: 0.6712 - val_loss: 1.2320 - val_accuracy: 0.5047\n",
            "Epoch 49/150\n",
            "3/3 [==============================] - 0s 11ms/step - loss: 0.8509 - accuracy: 0.6807 - val_loss: 1.2606 - val_accuracy: 0.4795\n",
            "Epoch 50/150\n",
            "3/3 [==============================] - 0s 11ms/step - loss: 0.8371 - accuracy: 0.6909 - val_loss: 1.2510 - val_accuracy: 0.4984\n",
            "Epoch 51/150\n",
            "3/3 [==============================] - 0s 10ms/step - loss: 0.8163 - accuracy: 0.7098 - val_loss: 1.2804 - val_accuracy: 0.4795\n",
            "Epoch 52/150\n",
            "3/3 [==============================] - 0s 11ms/step - loss: 0.8229 - accuracy: 0.6993 - val_loss: 1.2467 - val_accuracy: 0.4984\n",
            "Epoch 53/150\n",
            "3/3 [==============================] - 0s 11ms/step - loss: 0.8164 - accuracy: 0.6880 - val_loss: 1.2374 - val_accuracy: 0.5047\n",
            "Epoch 54/150\n",
            "3/3 [==============================] - 0s 11ms/step - loss: 0.8048 - accuracy: 0.7066 - val_loss: 1.2665 - val_accuracy: 0.4763\n",
            "Epoch 55/150\n",
            "3/3 [==============================] - 0s 11ms/step - loss: 0.8075 - accuracy: 0.6887 - val_loss: 1.2252 - val_accuracy: 0.5110\n",
            "Epoch 56/150\n",
            "3/3 [==============================] - 0s 11ms/step - loss: 0.7757 - accuracy: 0.7322 - val_loss: 1.2485 - val_accuracy: 0.5047\n",
            "Epoch 57/150\n",
            "3/3 [==============================] - 0s 11ms/step - loss: 0.7637 - accuracy: 0.7270 - val_loss: 1.2662 - val_accuracy: 0.4953\n",
            "Epoch 58/150\n",
            "3/3 [==============================] - 0s 10ms/step - loss: 0.7518 - accuracy: 0.7273 - val_loss: 1.3228 - val_accuracy: 0.4669\n",
            "Epoch 59/150\n",
            "3/3 [==============================] - 0s 11ms/step - loss: 0.7665 - accuracy: 0.7178 - val_loss: 1.2936 - val_accuracy: 0.4763\n",
            "Epoch 60/150\n",
            "3/3 [==============================] - 0s 10ms/step - loss: 0.7386 - accuracy: 0.7333 - val_loss: 1.2361 - val_accuracy: 0.5047\n",
            "Epoch 61/150\n",
            "3/3 [==============================] - 0s 11ms/step - loss: 0.7289 - accuracy: 0.7441 - val_loss: 1.2636 - val_accuracy: 0.4826\n",
            "Epoch 62/150\n",
            "3/3 [==============================] - 0s 11ms/step - loss: 0.7268 - accuracy: 0.7473 - val_loss: 1.2809 - val_accuracy: 0.4858\n",
            "Epoch 63/150\n",
            "3/3 [==============================] - 0s 11ms/step - loss: 0.7165 - accuracy: 0.7469 - val_loss: 1.3440 - val_accuracy: 0.4763\n",
            "Epoch 64/150\n",
            "3/3 [==============================] - 0s 12ms/step - loss: 0.7269 - accuracy: 0.7308 - val_loss: 1.4429 - val_accuracy: 0.4574\n",
            "Epoch 65/150\n",
            "3/3 [==============================] - 0s 12ms/step - loss: 0.7290 - accuracy: 0.7333 - val_loss: 1.2626 - val_accuracy: 0.4826\n",
            "Epoch 66/150\n",
            "3/3 [==============================] - 0s 11ms/step - loss: 0.6766 - accuracy: 0.7753 - val_loss: 1.2902 - val_accuracy: 0.5268\n",
            "Epoch 67/150\n",
            "3/3 [==============================] - 0s 11ms/step - loss: 0.6800 - accuracy: 0.7655 - val_loss: 1.3341 - val_accuracy: 0.4890\n",
            "Epoch 68/150\n",
            "3/3 [==============================] - 0s 11ms/step - loss: 0.6669 - accuracy: 0.7725 - val_loss: 1.3086 - val_accuracy: 0.4890\n",
            "Epoch 69/150\n",
            "3/3 [==============================] - 0s 10ms/step - loss: 0.6709 - accuracy: 0.7722 - val_loss: 1.2985 - val_accuracy: 0.5110\n",
            "Epoch 70/150\n",
            "3/3 [==============================] - 0s 11ms/step - loss: 0.6844 - accuracy: 0.7518 - val_loss: 1.3309 - val_accuracy: 0.5016\n",
            "Epoch 71/150\n",
            "3/3 [==============================] - 0s 11ms/step - loss: 0.6684 - accuracy: 0.7701 - val_loss: 1.3465 - val_accuracy: 0.5205\n",
            "Epoch 72/150\n",
            "3/3 [==============================] - 0s 11ms/step - loss: 0.6962 - accuracy: 0.7511 - val_loss: 1.3640 - val_accuracy: 0.4858\n",
            "Epoch 73/150\n",
            "3/3 [==============================] - 0s 11ms/step - loss: 0.6501 - accuracy: 0.7694 - val_loss: 1.3789 - val_accuracy: 0.4858\n",
            "Epoch 74/150\n",
            "3/3 [==============================] - 0s 11ms/step - loss: 0.6347 - accuracy: 0.7774 - val_loss: 1.3243 - val_accuracy: 0.4921\n",
            "Epoch 75/150\n",
            "3/3 [==============================] - 0s 11ms/step - loss: 0.6335 - accuracy: 0.7841 - val_loss: 1.3057 - val_accuracy: 0.5079\n",
            "Epoch 76/150\n",
            "3/3 [==============================] - 0s 11ms/step - loss: 0.6125 - accuracy: 0.7981 - val_loss: 1.3840 - val_accuracy: 0.4826\n",
            "Epoch 77/150\n",
            "3/3 [==============================] - 0s 11ms/step - loss: 0.6151 - accuracy: 0.7932 - val_loss: 1.4004 - val_accuracy: 0.5079\n",
            "Epoch 78/150\n",
            "3/3 [==============================] - 0s 11ms/step - loss: 0.5985 - accuracy: 0.8002 - val_loss: 1.3367 - val_accuracy: 0.5110\n",
            "Epoch 79/150\n",
            "3/3 [==============================] - 0s 11ms/step - loss: 0.5752 - accuracy: 0.8156 - val_loss: 1.3513 - val_accuracy: 0.4826\n",
            "Epoch 80/150\n",
            "3/3 [==============================] - 0s 11ms/step - loss: 0.5677 - accuracy: 0.8160 - val_loss: 1.3322 - val_accuracy: 0.4984\n",
            "Epoch 81/150\n",
            "3/3 [==============================] - 0s 11ms/step - loss: 0.5545 - accuracy: 0.8254 - val_loss: 1.4011 - val_accuracy: 0.5016\n",
            "Epoch 82/150\n",
            "3/3 [==============================] - 0s 11ms/step - loss: 0.5740 - accuracy: 0.8062 - val_loss: 1.3644 - val_accuracy: 0.5174\n",
            "Epoch 83/150\n",
            "3/3 [==============================] - 0s 11ms/step - loss: 0.5564 - accuracy: 0.8202 - val_loss: 1.4848 - val_accuracy: 0.4574\n",
            "Epoch 84/150\n",
            "3/3 [==============================] - 0s 11ms/step - loss: 0.5610 - accuracy: 0.8142 - val_loss: 1.4019 - val_accuracy: 0.5047\n",
            "Epoch 85/150\n",
            "3/3 [==============================] - 0s 11ms/step - loss: 0.5485 - accuracy: 0.8195 - val_loss: 1.6275 - val_accuracy: 0.4511\n",
            "Epoch 86/150\n",
            "3/3 [==============================] - 0s 11ms/step - loss: 0.5719 - accuracy: 0.7967 - val_loss: 1.5675 - val_accuracy: 0.4543\n",
            "Epoch 87/150\n",
            "3/3 [==============================] - 0s 12ms/step - loss: 0.5973 - accuracy: 0.7834 - val_loss: 1.5282 - val_accuracy: 0.4700\n",
            "Epoch 88/150\n",
            "3/3 [==============================] - 0s 13ms/step - loss: 0.5966 - accuracy: 0.7813 - val_loss: 1.4560 - val_accuracy: 0.4953\n",
            "Epoch 89/150\n",
            "3/3 [==============================] - 0s 11ms/step - loss: 0.5534 - accuracy: 0.8146 - val_loss: 1.4350 - val_accuracy: 0.4890\n",
            "Epoch 90/150\n",
            "3/3 [==============================] - 0s 11ms/step - loss: 0.5340 - accuracy: 0.8265 - val_loss: 1.5329 - val_accuracy: 0.4984\n",
            "Epoch 91/150\n",
            "3/3 [==============================] - 0s 12ms/step - loss: 0.5134 - accuracy: 0.8402 - val_loss: 1.5345 - val_accuracy: 0.4763\n",
            "Epoch 92/150\n",
            "3/3 [==============================] - 0s 11ms/step - loss: 0.5282 - accuracy: 0.8233 - val_loss: 1.4538 - val_accuracy: 0.4826\n",
            "Epoch 93/150\n",
            "3/3 [==============================] - 0s 11ms/step - loss: 0.5195 - accuracy: 0.8237 - val_loss: 1.4967 - val_accuracy: 0.4984\n",
            "Epoch 94/150\n",
            "3/3 [==============================] - 0s 12ms/step - loss: 0.5063 - accuracy: 0.8360 - val_loss: 1.5244 - val_accuracy: 0.4826\n",
            "Epoch 95/150\n",
            "3/3 [==============================] - 0s 11ms/step - loss: 0.4855 - accuracy: 0.8503 - val_loss: 1.4569 - val_accuracy: 0.5110\n",
            "Epoch 96/150\n",
            "3/3 [==============================] - 0s 12ms/step - loss: 0.4684 - accuracy: 0.8552 - val_loss: 1.5445 - val_accuracy: 0.4890\n",
            "Epoch 97/150\n",
            "3/3 [==============================] - 0s 12ms/step - loss: 0.4736 - accuracy: 0.8472 - val_loss: 1.5741 - val_accuracy: 0.4669\n",
            "Epoch 98/150\n",
            "3/3 [==============================] - 0s 11ms/step - loss: 0.4623 - accuracy: 0.8598 - val_loss: 1.5498 - val_accuracy: 0.4669\n",
            "Epoch 99/150\n",
            "3/3 [==============================] - 0s 11ms/step - loss: 0.4420 - accuracy: 0.8651 - val_loss: 1.5226 - val_accuracy: 0.4953\n",
            "Epoch 100/150\n",
            "3/3 [==============================] - 0s 11ms/step - loss: 0.4387 - accuracy: 0.8693 - val_loss: 1.5756 - val_accuracy: 0.4732\n",
            "Epoch 101/150\n",
            "3/3 [==============================] - 0s 11ms/step - loss: 0.4554 - accuracy: 0.8528 - val_loss: 1.5496 - val_accuracy: 0.4921\n",
            "Epoch 102/150\n",
            "3/3 [==============================] - 0s 11ms/step - loss: 0.4519 - accuracy: 0.8605 - val_loss: 1.6856 - val_accuracy: 0.4732\n",
            "Epoch 103/150\n",
            "3/3 [==============================] - 0s 11ms/step - loss: 0.4564 - accuracy: 0.8514 - val_loss: 1.5450 - val_accuracy: 0.4795\n",
            "Epoch 104/150\n",
            "3/3 [==============================] - 0s 12ms/step - loss: 0.4248 - accuracy: 0.8689 - val_loss: 1.6224 - val_accuracy: 0.4637\n",
            "Epoch 105/150\n",
            "3/3 [==============================] - 0s 11ms/step - loss: 0.4532 - accuracy: 0.8566 - val_loss: 1.5950 - val_accuracy: 0.4763\n",
            "Epoch 106/150\n",
            "3/3 [==============================] - 0s 11ms/step - loss: 0.4287 - accuracy: 0.8686 - val_loss: 1.5714 - val_accuracy: 0.4669\n",
            "Epoch 107/150\n",
            "3/3 [==============================] - 0s 11ms/step - loss: 0.4069 - accuracy: 0.8784 - val_loss: 1.6688 - val_accuracy: 0.4858\n",
            "Epoch 108/150\n",
            "3/3 [==============================] - 0s 12ms/step - loss: 0.4375 - accuracy: 0.8542 - val_loss: 1.6570 - val_accuracy: 0.4763\n",
            "Epoch 109/150\n",
            "3/3 [==============================] - 0s 12ms/step - loss: 0.4386 - accuracy: 0.8563 - val_loss: 1.6666 - val_accuracy: 0.4259\n",
            "Epoch 110/150\n",
            "3/3 [==============================] - 0s 14ms/step - loss: 0.4096 - accuracy: 0.8794 - val_loss: 1.7193 - val_accuracy: 0.4606\n",
            "Epoch 111/150\n",
            "3/3 [==============================] - 0s 11ms/step - loss: 0.4163 - accuracy: 0.8756 - val_loss: 1.7249 - val_accuracy: 0.4763\n",
            "Epoch 112/150\n",
            "3/3 [==============================] - 0s 11ms/step - loss: 0.4018 - accuracy: 0.8763 - val_loss: 1.6127 - val_accuracy: 0.4543\n",
            "Epoch 113/150\n",
            "3/3 [==============================] - 0s 11ms/step - loss: 0.3819 - accuracy: 0.8808 - val_loss: 1.5775 - val_accuracy: 0.4795\n",
            "Epoch 114/150\n",
            "3/3 [==============================] - 0s 11ms/step - loss: 0.3816 - accuracy: 0.8787 - val_loss: 1.6532 - val_accuracy: 0.4574\n",
            "Epoch 115/150\n",
            "3/3 [==============================] - 0s 11ms/step - loss: 0.3547 - accuracy: 0.8970 - val_loss: 1.6772 - val_accuracy: 0.4700\n",
            "Epoch 116/150\n",
            "3/3 [==============================] - 0s 11ms/step - loss: 0.3685 - accuracy: 0.8787 - val_loss: 1.6301 - val_accuracy: 0.4826\n",
            "Epoch 117/150\n",
            "3/3 [==============================] - 0s 11ms/step - loss: 0.3655 - accuracy: 0.8896 - val_loss: 1.6463 - val_accuracy: 0.4921\n",
            "Epoch 118/150\n",
            "3/3 [==============================] - 0s 11ms/step - loss: 0.3542 - accuracy: 0.8934 - val_loss: 1.6175 - val_accuracy: 0.4858\n",
            "Epoch 119/150\n",
            "3/3 [==============================] - 0s 13ms/step - loss: 0.3648 - accuracy: 0.8794 - val_loss: 1.7002 - val_accuracy: 0.4385\n",
            "Epoch 120/150\n",
            "3/3 [==============================] - 0s 11ms/step - loss: 0.3603 - accuracy: 0.8882 - val_loss: 1.7109 - val_accuracy: 0.4574\n",
            "Epoch 121/150\n",
            "3/3 [==============================] - 0s 11ms/step - loss: 0.3365 - accuracy: 0.9043 - val_loss: 1.7130 - val_accuracy: 0.4826\n",
            "Epoch 122/150\n",
            "3/3 [==============================] - 0s 12ms/step - loss: 0.3250 - accuracy: 0.9071 - val_loss: 1.6746 - val_accuracy: 0.4763\n",
            "Epoch 123/150\n",
            "3/3 [==============================] - 0s 11ms/step - loss: 0.3094 - accuracy: 0.9148 - val_loss: 1.7658 - val_accuracy: 0.4385\n",
            "Epoch 124/150\n",
            "3/3 [==============================] - 0s 11ms/step - loss: 0.2917 - accuracy: 0.9274 - val_loss: 1.6817 - val_accuracy: 0.4826\n",
            "Epoch 125/150\n",
            "3/3 [==============================] - 0s 10ms/step - loss: 0.2926 - accuracy: 0.9236 - val_loss: 1.7347 - val_accuracy: 0.4890\n",
            "Epoch 126/150\n",
            "3/3 [==============================] - 0s 11ms/step - loss: 0.2869 - accuracy: 0.9257 - val_loss: 1.7689 - val_accuracy: 0.4669\n",
            "Epoch 127/150\n",
            "3/3 [==============================] - 0s 11ms/step - loss: 0.2764 - accuracy: 0.9285 - val_loss: 1.6876 - val_accuracy: 0.4858\n",
            "Epoch 128/150\n",
            "3/3 [==============================] - 0s 11ms/step - loss: 0.2706 - accuracy: 0.9317 - val_loss: 1.7723 - val_accuracy: 0.4574\n",
            "Epoch 129/150\n",
            "3/3 [==============================] - 0s 11ms/step - loss: 0.2673 - accuracy: 0.9295 - val_loss: 1.8352 - val_accuracy: 0.4448\n",
            "Epoch 130/150\n",
            "3/3 [==============================] - 0s 11ms/step - loss: 0.2587 - accuracy: 0.9355 - val_loss: 1.7181 - val_accuracy: 0.4574\n",
            "Epoch 131/150\n",
            "3/3 [==============================] - 0s 11ms/step - loss: 0.2533 - accuracy: 0.9373 - val_loss: 1.7380 - val_accuracy: 0.4795\n",
            "Epoch 132/150\n",
            "3/3 [==============================] - 0s 13ms/step - loss: 0.2583 - accuracy: 0.9352 - val_loss: 1.7888 - val_accuracy: 0.4637\n",
            "Epoch 133/150\n",
            "3/3 [==============================] - 0s 11ms/step - loss: 0.2547 - accuracy: 0.9320 - val_loss: 1.7829 - val_accuracy: 0.4858\n",
            "Epoch 134/150\n",
            "3/3 [==============================] - 0s 12ms/step - loss: 0.2461 - accuracy: 0.9387 - val_loss: 1.7747 - val_accuracy: 0.4637\n",
            "Epoch 135/150\n",
            "3/3 [==============================] - 0s 12ms/step - loss: 0.2500 - accuracy: 0.9373 - val_loss: 1.8042 - val_accuracy: 0.4511\n",
            "Epoch 136/150\n",
            "3/3 [==============================] - 0s 12ms/step - loss: 0.2440 - accuracy: 0.9373 - val_loss: 1.9756 - val_accuracy: 0.4479\n",
            "Epoch 137/150\n",
            "3/3 [==============================] - 0s 12ms/step - loss: 0.2572 - accuracy: 0.9243 - val_loss: 2.0556 - val_accuracy: 0.4448\n",
            "Epoch 138/150\n",
            "3/3 [==============================] - 0s 11ms/step - loss: 0.2971 - accuracy: 0.9054 - val_loss: 1.9227 - val_accuracy: 0.4606\n",
            "Epoch 139/150\n",
            "3/3 [==============================] - 0s 13ms/step - loss: 0.2543 - accuracy: 0.9306 - val_loss: 1.9593 - val_accuracy: 0.4637\n",
            "Epoch 140/150\n",
            "3/3 [==============================] - 0s 12ms/step - loss: 0.2592 - accuracy: 0.9285 - val_loss: 2.0966 - val_accuracy: 0.4227\n",
            "Epoch 141/150\n",
            "3/3 [==============================] - 0s 11ms/step - loss: 0.2654 - accuracy: 0.9250 - val_loss: 1.9502 - val_accuracy: 0.4543\n",
            "Epoch 142/150\n",
            "3/3 [==============================] - 0s 12ms/step - loss: 0.2453 - accuracy: 0.9359 - val_loss: 1.8591 - val_accuracy: 0.4763\n",
            "Epoch 143/150\n",
            "3/3 [==============================] - 0s 11ms/step - loss: 0.2455 - accuracy: 0.9320 - val_loss: 1.8390 - val_accuracy: 0.4763\n",
            "Epoch 144/150\n",
            "3/3 [==============================] - 0s 11ms/step - loss: 0.2443 - accuracy: 0.9313 - val_loss: 1.8499 - val_accuracy: 0.4700\n",
            "Epoch 145/150\n",
            "3/3 [==============================] - 0s 11ms/step - loss: 0.2276 - accuracy: 0.9376 - val_loss: 1.9701 - val_accuracy: 0.4669\n",
            "Epoch 146/150\n",
            "3/3 [==============================] - 0s 11ms/step - loss: 0.2106 - accuracy: 0.9502 - val_loss: 1.9344 - val_accuracy: 0.4479\n",
            "Epoch 147/150\n",
            "3/3 [==============================] - 0s 11ms/step - loss: 0.2067 - accuracy: 0.9534 - val_loss: 1.9272 - val_accuracy: 0.4543\n",
            "Epoch 148/150\n",
            "3/3 [==============================] - 0s 10ms/step - loss: 0.1936 - accuracy: 0.9548 - val_loss: 1.9084 - val_accuracy: 0.4826\n",
            "Epoch 149/150\n",
            "3/3 [==============================] - 0s 12ms/step - loss: 0.1898 - accuracy: 0.9576 - val_loss: 1.8913 - val_accuracy: 0.4732\n",
            "Epoch 150/150\n",
            "3/3 [==============================] - 0s 10ms/step - loss: 0.1936 - accuracy: 0.9593 - val_loss: 1.9990 - val_accuracy: 0.4416\n"
          ],
          "name": "stdout"
        },
        {
          "output_type": "execute_result",
          "data": {
            "text/plain": [
              "<tensorflow.python.keras.callbacks.History at 0x7fe600296860>"
            ]
          },
          "metadata": {
            "tags": []
          },
          "execution_count": 798
        }
      ]
    },
    {
      "cell_type": "code",
      "metadata": {
        "id": "tmjvQeLgzmax",
        "outputId": "724262ec-3559-4c5d-8ea2-7b8b7881c17c",
        "colab": {
          "base_uri": "https://localhost:8080/"
        }
      },
      "source": [
        "ty=keras.utils.to_categorical(cp.asnumpy(y_test).reshape(-1,1))\n",
        "ty=ty[:,1:]\n",
        "print(\" TF Avg Acc\", model.evaluate(cp.asnumpy(X_test),ty))"
      ],
      "execution_count": null,
      "outputs": [
        {
          "output_type": "stream",
          "text": [
            "16/16 [==============================] - 0s 2ms/step - loss: 1.9222 - accuracy: 0.4900\n",
            " TF Avg Acc [1.9221936464309692, 0.49000000953674316]\n"
          ],
          "name": "stdout"
        }
      ]
    },
    {
      "cell_type": "code",
      "metadata": {
        "id": "CLJfXRlGOzxt"
      },
      "source": [
        ""
      ],
      "execution_count": null,
      "outputs": []
    }
  ]
}